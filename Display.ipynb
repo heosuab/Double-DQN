{
 "cells": [
  {
   "cell_type": "code",
   "execution_count": null,
   "metadata": {},
   "outputs": [],
   "source": [
    "display = Display(visible=False, size=(2800, 1800))\n",
    "display.start()\n",
    "\n",
    "torch.save(agent,\"Training/agent.pt\")\n",
    "agent = torch.load(\"Training/agent_trained.pt\", map_location=device)\n",
    "\n",
    "raw_env = gym.make(env_name)\n",
    "env = Atari_Wrapper(raw_env, env_name, num_stacked_frames)\n",
    "\n",
    "steps = 5000\n",
    "ob = env.reset()\n",
    "agent.set_epsilon(0.025)\n",
    "agent.eval()\n",
    "imgs = []\n",
    "\n",
    "for step in range(steps):\n",
    "    action = agent.e_greedy(torch.tensor(ob, dtype=dtype).unsqueeze(0) / 255)\n",
    "    action = action.detach().cpu().numpy()\n",
    "\n",
    "    plt.imshow(env.render(mode='rgb_array'))\n",
    "    ipythondisplay.clear_output(wait=True)\n",
    "    ipythondisplay.display(plt.gcf())\n",
    "\n",
    "    ob, _, done, info = env.step(action)\n",
    "    \n",
    "    time.sleep(0.005)        \n",
    "    if done:\n",
    "        ob = env.reset()\n",
    "        print(info)\n",
    "    \n",
    "    imgs.append(ob)\n",
    "    \n",
    "env.close()"
   ]
  }
 ],
 "metadata": {
  "kernelspec": {
   "display_name": "Python 3",
   "language": "python",
   "name": "python3"
  },
  "language_info": {
   "codemirror_mode": {
    "name": "ipython",
    "version": 3
   },
   "file_extension": ".py",
   "mimetype": "text/x-python",
   "name": "python",
   "nbconvert_exporter": "python",
   "pygments_lexer": "ipython3",
   "version": "3.6.10"
  }
 },
 "nbformat": 4,
 "nbformat_minor": 4
}
